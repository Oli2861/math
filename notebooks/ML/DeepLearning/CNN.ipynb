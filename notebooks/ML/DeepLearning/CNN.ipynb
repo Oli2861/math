{
 "cells": [
  {
   "cell_type": "code",
   "execution_count": 1,
   "metadata": {
    "collapsed": true,
    "ExecuteTime": {
     "end_time": "2023-10-18T06:57:09.481283200Z",
     "start_time": "2023-10-18T06:57:08.095469300Z"
    }
   },
   "outputs": [],
   "source": [
    "from typing import Tuple\n",
    "import numpy as np\n",
    "from matplotlib import pyplot as plt\n",
    "\n",
    "from oli.math.math_utility import pretty_print_matrix"
   ]
  },
  {
   "cell_type": "markdown",
   "source": [
    "## Kernel & Convolution:\n",
    "- A kernel is a matrix of weights learned using backpropagation.\n",
    "- Represents a receptive field.\n",
    "- Is shifted by the stride along the input.\n",
    "- Output size is determined by the kernel size and the stride.\n",
    "- Applying a kernel to an input is called convolution.\n",
    "- Can be viewed as a dot product between the kernel and the input.\n",
    "- The outputs are called feature maps.\n",
    "    - The amount of feature maps is equal to the amount of kernels.\n",
    "    - They are also called channels.\n",
    "\n",
    "The following kernel is of size $W_{kernel} = 3$ and $H_{kernel} = 1$ There are 3 kernels in total leading to 3 feature maps (output channels). The stride is set to $s = 1$."
   ],
   "metadata": {
    "collapsed": false
   }
  },
  {
   "cell_type": "code",
   "execution_count": 2,
   "outputs": [
    {
     "name": "stdout",
     "output_type": "stream",
     "text": [
      "Amount of kernels:  4\n",
      "Kernel width:  3\n",
      "Kernel height:  1\n",
      "Amount of strides:  2\n"
     ]
    }
   ],
   "source": [
    "X = np.array([5, 6, 6, 2, 5, 6])\n",
    "\n",
    "kernel_list = [\n",
    "    [1, -1, 1],\n",
    "    [0, 0, 1],\n",
    "    [0, 0, 0],\n",
    "    [1, 1, 1]\n",
    "]\n",
    "amout_of_kernels = len(kernel_list)\n",
    "kernel_width = len(kernel_list[0])\n",
    "kernel_height = 1\n",
    "amount_of_strides = int(len(X) / kernel_width)\n",
    "\n",
    "print(\"Amount of kernels: \", amout_of_kernels)\n",
    "print(\"Kernel width: \", kernel_width)\n",
    "print(\"Kernel height: \", kernel_height)\n",
    "print(\"Amount of strides: \", amount_of_strides)"
   ],
   "metadata": {
    "collapsed": false,
    "ExecuteTime": {
     "end_time": "2023-10-18T06:57:09.543285300Z",
     "start_time": "2023-10-18T06:57:09.481283200Z"
    }
   }
  },
  {
   "cell_type": "code",
   "execution_count": 3,
   "outputs": [
    {
     "name": "stdout",
     "output_type": "stream",
     "text": [
      "X slice currently visible to the kernel:\n",
      "[\n",
      "  5 \n",
      "  6 \n",
      "  6 \n",
      "]\n",
      "Kernel:\n",
      "[\n",
      "  1 \n",
      "  -1 \n",
      "  1 \n",
      "]\n",
      "Convolution: 5\n",
      "\n",
      "X slice currently visible to the kernel:\n",
      "[\n",
      "  5 \n",
      "  6 \n",
      "  6 \n",
      "]\n",
      "Kernel:\n",
      "[\n",
      "  0 \n",
      "  0 \n",
      "  1 \n",
      "]\n",
      "Convolution: 6\n",
      "\n",
      "X slice currently visible to the kernel:\n",
      "[\n",
      "  5 \n",
      "  6 \n",
      "  6 \n",
      "]\n",
      "Kernel:\n",
      "[\n",
      "  0 \n",
      "  0 \n",
      "  0 \n",
      "]\n",
      "Convolution: 0\n",
      "\n",
      "X slice currently visible to the kernel:\n",
      "[\n",
      "  5 \n",
      "  6 \n",
      "  6 \n",
      "]\n",
      "Kernel:\n",
      "[\n",
      "  1 \n",
      "  1 \n",
      "  1 \n",
      "]\n",
      "Convolution: 17\n",
      "\n",
      "\n",
      "X slice currently visible to the kernel:\n",
      "[\n",
      "  6 \n",
      "  6 \n",
      "  2 \n",
      "]\n",
      "Kernel:\n",
      "[\n",
      "  1 \n",
      "  -1 \n",
      "  1 \n",
      "]\n",
      "Convolution: 2\n",
      "\n",
      "X slice currently visible to the kernel:\n",
      "[\n",
      "  6 \n",
      "  6 \n",
      "  2 \n",
      "]\n",
      "Kernel:\n",
      "[\n",
      "  0 \n",
      "  0 \n",
      "  1 \n",
      "]\n",
      "Convolution: 2\n",
      "\n",
      "X slice currently visible to the kernel:\n",
      "[\n",
      "  6 \n",
      "  6 \n",
      "  2 \n",
      "]\n",
      "Kernel:\n",
      "[\n",
      "  0 \n",
      "  0 \n",
      "  0 \n",
      "]\n",
      "Convolution: 0\n",
      "\n",
      "X slice currently visible to the kernel:\n",
      "[\n",
      "  6 \n",
      "  6 \n",
      "  2 \n",
      "]\n",
      "Kernel:\n",
      "[\n",
      "  1 \n",
      "  1 \n",
      "  1 \n",
      "]\n",
      "Convolution: 14\n",
      "\n",
      "\n"
     ]
    }
   ],
   "source": [
    "for i in range(0, amount_of_strides):\n",
    "    current_visible_x = X[i:i + kernel_width]\n",
    "    for kernel in kernel_list:\n",
    "        pretty_print_matrix(current_visible_x, \"X slice currently visible to the kernel:\")\n",
    "        pretty_print_matrix(kernel, \"Kernel:\")\n",
    "        print(\"Convolution:\", np.tensordot(current_visible_x, kernel, axes=1))\n",
    "        print()\n",
    "    print()"
   ],
   "metadata": {
    "collapsed": false,
    "ExecuteTime": {
     "end_time": "2023-10-18T06:57:09.620791700Z",
     "start_time": "2023-10-18T06:57:09.545283Z"
    }
   }
  },
  {
   "cell_type": "markdown",
   "source": [
    "### 2D Convolution:"
   ],
   "metadata": {
    "collapsed": false
   }
  },
  {
   "cell_type": "code",
   "execution_count": 4,
   "outputs": [
    {
     "name": "stdout",
     "output_type": "stream",
     "text": [
      "(3, 3)\n",
      "(3, 3)\n"
     ]
    },
    {
     "data": {
      "text/plain": "array(8)"
     },
     "execution_count": 4,
     "metadata": {},
     "output_type": "execute_result"
    }
   ],
   "source": [
    "test_x = np.array([\n",
    "    [1, 0, 1],\n",
    "    [0, 1, 0],\n",
    "    [1, 0, 1]\n",
    "])\n",
    "test_kernel = np.array([\n",
    "    [2, 0, 2],\n",
    "    [2, 2, 2],\n",
    "    [0, 2, 2]\n",
    "])\n",
    "print(test_x.shape)\n",
    "print(test_kernel.shape)\n",
    "np.tensordot(test_x, test_kernel, axes=2)"
   ],
   "metadata": {
    "collapsed": false,
    "ExecuteTime": {
     "end_time": "2023-10-18T06:57:09.704302700Z",
     "start_time": "2023-10-18T06:57:09.608790600Z"
    }
   }
  },
  {
   "cell_type": "code",
   "execution_count": 5,
   "outputs": [
    {
     "name": "stdout",
     "output_type": "stream",
     "text": [
      "Amount of kernels:  3\n",
      "Kernel width:  3\n",
      "Kernel height:  3\n",
      "Amount of strides x:  2\n",
      "Amount of strides y:  2\n"
     ]
    }
   ],
   "source": [
    "X = np.array([\n",
    "    [2, 0, 2, 2, 0],\n",
    "    [2, 2, 2, 2, 2],\n",
    "    [0, 2, 2, 2, 0],\n",
    "    [0, 2, 2, 2, 0],\n",
    "    [0, 0, 2, 0, 0]\n",
    "])\n",
    "\n",
    "kernel_list = [\n",
    "    np.array([\n",
    "        [1, 0, 1],\n",
    "        [0, 1, 0],\n",
    "        [1, 0, 1]\n",
    "    ]),\n",
    "    np.array([\n",
    "        [0, 1, 0],\n",
    "        [1, 0, 1],\n",
    "        [0, 1, 0]\n",
    "    ]),\n",
    "    np.array([\n",
    "        [1, 0, 1],\n",
    "        [0, 1, 0],\n",
    "        [1, 0, 1]\n",
    "    ])\n",
    "]\n",
    "\n",
    "amout_of_kernels = len(kernel_list)\n",
    "kernel_height = len(kernel_list[0])\n",
    "kernel_width = len(kernel_list[0][0])\n",
    "stride = 2\n",
    "amount_of_strides_x = int((len(X) - kernel_width) / stride) + 1\n",
    "amount_of_strides_y = int((len(X[0]) - kernel_height) / stride) + 1\n",
    "\n",
    "print(\"Amount of kernels: \", amout_of_kernels)\n",
    "print(\"Kernel width: \", kernel_width)\n",
    "print(\"Kernel height: \", kernel_height)\n",
    "print(\"Amount of strides x: \", amount_of_strides_x)\n",
    "print(\"Amount of strides y: \", amount_of_strides_y)"
   ],
   "metadata": {
    "collapsed": false,
    "ExecuteTime": {
     "end_time": "2023-10-18T06:57:09.789303100Z",
     "start_time": "2023-10-18T06:57:09.683302700Z"
    }
   }
  },
  {
   "cell_type": "code",
   "execution_count": 6,
   "outputs": [
    {
     "name": "stdout",
     "output_type": "stream",
     "text": [
      "X slice currently visible to the kernel:\n",
      "[\n",
      "  2 0 2 \n",
      "  2 2 2 \n",
      "  0 2 2 \n",
      "]\n",
      "Kernel:\n",
      "[\n",
      "  1 0 1 \n",
      "  0 1 0 \n",
      "  1 0 1 \n",
      "]\n",
      "Convolution:  8\n",
      "\n",
      "X slice currently visible to the kernel:\n",
      "[\n",
      "  2 0 2 \n",
      "  2 2 2 \n",
      "  0 2 2 \n",
      "]\n",
      "Kernel:\n",
      "[\n",
      "  0 1 0 \n",
      "  1 0 1 \n",
      "  0 1 0 \n",
      "]\n",
      "Convolution:  6\n",
      "\n",
      "X slice currently visible to the kernel:\n",
      "[\n",
      "  2 0 2 \n",
      "  2 2 2 \n",
      "  0 2 2 \n",
      "]\n",
      "Kernel:\n",
      "[\n",
      "  1 0 1 \n",
      "  0 1 0 \n",
      "  1 0 1 \n",
      "]\n",
      "Convolution:  8\n",
      "\n",
      "\n",
      "X slice currently visible to the kernel:\n",
      "[\n",
      "  0 2 2 \n",
      "  2 2 2 \n",
      "  2 2 2 \n",
      "]\n",
      "Kernel:\n",
      "[\n",
      "  1 0 1 \n",
      "  0 1 0 \n",
      "  1 0 1 \n",
      "]\n",
      "Convolution:  8\n",
      "\n",
      "X slice currently visible to the kernel:\n",
      "[\n",
      "  0 2 2 \n",
      "  2 2 2 \n",
      "  2 2 2 \n",
      "]\n",
      "Kernel:\n",
      "[\n",
      "  0 1 0 \n",
      "  1 0 1 \n",
      "  0 1 0 \n",
      "]\n",
      "Convolution:  8\n",
      "\n",
      "X slice currently visible to the kernel:\n",
      "[\n",
      "  0 2 2 \n",
      "  2 2 2 \n",
      "  2 2 2 \n",
      "]\n",
      "Kernel:\n",
      "[\n",
      "  1 0 1 \n",
      "  0 1 0 \n",
      "  1 0 1 \n",
      "]\n",
      "Convolution:  8\n",
      "\n",
      "\n",
      "X slice currently visible to the kernel:\n",
      "[\n",
      "  2 2 2 \n",
      "  0 2 2 \n",
      "  0 2 2 \n",
      "]\n",
      "Kernel:\n",
      "[\n",
      "  1 0 1 \n",
      "  0 1 0 \n",
      "  1 0 1 \n",
      "]\n",
      "Convolution:  8\n",
      "\n",
      "X slice currently visible to the kernel:\n",
      "[\n",
      "  2 2 2 \n",
      "  0 2 2 \n",
      "  0 2 2 \n",
      "]\n",
      "Kernel:\n",
      "[\n",
      "  0 1 0 \n",
      "  1 0 1 \n",
      "  0 1 0 \n",
      "]\n",
      "Convolution:  6\n",
      "\n",
      "X slice currently visible to the kernel:\n",
      "[\n",
      "  2 2 2 \n",
      "  0 2 2 \n",
      "  0 2 2 \n",
      "]\n",
      "Kernel:\n",
      "[\n",
      "  1 0 1 \n",
      "  0 1 0 \n",
      "  1 0 1 \n",
      "]\n",
      "Convolution:  8\n",
      "\n",
      "\n",
      "X slice currently visible to the kernel:\n",
      "[\n",
      "  2 2 2 \n",
      "  2 2 2 \n",
      "  2 2 2 \n",
      "]\n",
      "Kernel:\n",
      "[\n",
      "  1 0 1 \n",
      "  0 1 0 \n",
      "  1 0 1 \n",
      "]\n",
      "Convolution:  10\n",
      "\n",
      "X slice currently visible to the kernel:\n",
      "[\n",
      "  2 2 2 \n",
      "  2 2 2 \n",
      "  2 2 2 \n",
      "]\n",
      "Kernel:\n",
      "[\n",
      "  0 1 0 \n",
      "  1 0 1 \n",
      "  0 1 0 \n",
      "]\n",
      "Convolution:  8\n",
      "\n",
      "X slice currently visible to the kernel:\n",
      "[\n",
      "  2 2 2 \n",
      "  2 2 2 \n",
      "  2 2 2 \n",
      "]\n",
      "Kernel:\n",
      "[\n",
      "  1 0 1 \n",
      "  0 1 0 \n",
      "  1 0 1 \n",
      "]\n",
      "Convolution:  10\n",
      "\n",
      "\n"
     ]
    }
   ],
   "source": [
    "for y in range(0, amount_of_strides_y):\n",
    "    for x in range(0, amount_of_strides_x):\n",
    "        current_visible = X[y:y + kernel_height, x:x + kernel_width]\n",
    "        for kernel in kernel_list:\n",
    "            pretty_print_matrix(current_visible, \"X slice currently visible to the kernel:\")\n",
    "            pretty_print_matrix(kernel, \"Kernel:\")\n",
    "            print(\"Convolution: \", np.tensordot(current_visible, kernel, axes=2))\n",
    "            print()\n",
    "        print()"
   ],
   "metadata": {
    "collapsed": false,
    "ExecuteTime": {
     "end_time": "2023-10-18T06:57:09.800302600Z",
     "start_time": "2023-10-18T06:57:09.733304300Z"
    }
   }
  },
  {
   "cell_type": "markdown",
   "source": [
    "# FashionMNIST classification using pytorch\n",
    "[FashionMNIST](https://github.com/zalandoresearch/fashion-mnist)"
   ],
   "metadata": {
    "collapsed": false
   }
  },
  {
   "cell_type": "code",
   "execution_count": 7,
   "outputs": [],
   "source": [
    "import torch\n",
    "from torch import nn\n",
    "import torch.nn.functional as F\n",
    "from torch.utils.data import DataLoader\n",
    "from torch.optim import Adam\n",
    "from torchvision.transforms import transforms\n",
    "from torchvision.datasets import FashionMNIST"
   ],
   "metadata": {
    "collapsed": false,
    "ExecuteTime": {
     "end_time": "2023-10-18T06:57:20.197896500Z",
     "start_time": "2023-10-18T06:57:09.793304100Z"
    }
   }
  },
  {
   "cell_type": "code",
   "execution_count": 8,
   "outputs": [
    {
     "name": "stdout",
     "output_type": "stream",
     "text": [
      "Using cuda device\n"
     ]
    }
   ],
   "source": [
    "device = \"cuda\" if torch.cuda.is_available() else \"cpu\"\n",
    "print(f\"Using {device} device\")"
   ],
   "metadata": {
    "collapsed": false,
    "ExecuteTime": {
     "end_time": "2023-10-18T06:57:20.322896200Z",
     "start_time": "2023-10-18T06:57:20.198896Z"
    }
   }
  },
  {
   "cell_type": "code",
   "execution_count": 9,
   "outputs": [],
   "source": [
    "fashion_mnist_train = FashionMNIST(root=\"../../../data/fashion-mnist\", download=True, train=True, transform=transforms.ToTensor())\n",
    "fashion_mnist_test = FashionMNIST(root=\"../../../data/fashion-mnist\", download=True, train=False, transform=transforms.ToTensor())\n",
    "\n",
    "train_data_loader = DataLoader(fashion_mnist_train, batch_size=64, shuffle=True)\n",
    "test_data_loader = DataLoader(fashion_mnist_test, batch_size=64, shuffle=False)"
   ],
   "metadata": {
    "collapsed": false,
    "ExecuteTime": {
     "end_time": "2023-10-18T06:57:20.859300800Z",
     "start_time": "2023-10-18T06:57:20.324899Z"
    }
   }
  },
  {
   "cell_type": "code",
   "execution_count": 10,
   "outputs": [
    {
     "data": {
      "text/plain": "array([6000, 6000, 6000, 6000, 6000, 6000, 6000, 6000, 6000, 6000],\n      dtype=int64)"
     },
     "execution_count": 10,
     "metadata": {},
     "output_type": "execute_result"
    }
   ],
   "source": [
    "np.bincount(fashion_mnist_train.targets.numpy())"
   ],
   "metadata": {
    "collapsed": false,
    "ExecuteTime": {
     "end_time": "2023-10-18T06:57:20.986808200Z",
     "start_time": "2023-10-18T06:57:20.860300800Z"
    }
   }
  },
  {
   "cell_type": "code",
   "execution_count": 11,
   "outputs": [
    {
     "data": {
      "text/plain": "array([1000, 1000, 1000, 1000, 1000, 1000, 1000, 1000, 1000, 1000],\n      dtype=int64)"
     },
     "execution_count": 11,
     "metadata": {},
     "output_type": "execute_result"
    }
   ],
   "source": [
    "np.bincount(fashion_mnist_test.targets.numpy())"
   ],
   "metadata": {
    "collapsed": false,
    "ExecuteTime": {
     "end_time": "2023-10-18T06:57:21.081806900Z",
     "start_time": "2023-10-18T06:57:20.987807Z"
    }
   }
  },
  {
   "cell_type": "code",
   "execution_count": 12,
   "outputs": [],
   "source": [
    "label_names = np.array([\n",
    "    \"T-shirt/top\",\n",
    "    \"Trouser\",\n",
    "    \"Pullover\",\n",
    "    \"Dress\",\n",
    "    \"Coat\",\n",
    "    \"Sandal\",\n",
    "    \"Shirt\",\n",
    "    \"Sneaker\",\n",
    "    \"Bag\",\n",
    "    \"Ankle boot\"\n",
    "])"
   ],
   "metadata": {
    "collapsed": false,
    "ExecuteTime": {
     "end_time": "2023-10-18T06:57:21.175480400Z",
     "start_time": "2023-10-18T06:57:21.082807800Z"
    }
   }
  },
  {
   "cell_type": "code",
   "execution_count": 13,
   "outputs": [
    {
     "data": {
      "text/plain": "torch.Size([28, 28])"
     },
     "execution_count": 13,
     "metadata": {},
     "output_type": "execute_result"
    }
   ],
   "source": [
    "fashion_mnist_train.data[i].shape"
   ],
   "metadata": {
    "collapsed": false,
    "ExecuteTime": {
     "end_time": "2023-10-18T06:57:21.303449200Z",
     "start_time": "2023-10-18T06:57:21.177479300Z"
    }
   }
  },
  {
   "cell_type": "code",
   "execution_count": 14,
   "outputs": [
    {
     "data": {
      "text/plain": "<Figure size 200x200 with 1 Axes>",
      "image/png": "[encoded data removed]"
     },
     "metadata": {},
     "output_type": "display_data"
    },
    {
     "data": {
      "text/plain": "<Figure size 200x200 with 1 Axes>",
      "image/png": "[encoded data removed]"
     },
     "metadata": {},
     "output_type": "display_data"
    },
    {
     "data": {
      "text/plain": "<Figure size 200x200 with 1 Axes>",
      "image/png": "[encoded data removed]"
     },
     "metadata": {},
     "output_type": "display_data"
    },
    {
     "data": {
      "text/plain": "<Figure size 200x200 with 1 Axes>",
      "image/png": "[encoded data removed]"
     },
     "metadata": {},
     "output_type": "display_data"
    },
    {
     "data": {
      "text/plain": "<Figure size 200x200 with 1 Axes>",
      "image/png": "[encoded data removed]"
     },
     "metadata": {},
     "output_type": "display_data"
    },
    {
     "data": {
      "text/plain": "<Figure size 200x200 with 1 Axes>",
      "image/png": "[encoded data removed]"
     },
     "metadata": {},
     "output_type": "display_data"
    },
    {
     "data": {
      "text/plain": "<Figure size 200x200 with 1 Axes>",
      "image/png": "[encoded data removed]"
     },
     "metadata": {},
     "output_type": "display_data"
    },
    {
     "data": {
      "text/plain": "<Figure size 200x200 with 1 Axes>",
      "image/png": "[encoded data removed]"
     },
     "metadata": {},
     "output_type": "display_data"
    },
    {
     "data": {
      "text/plain": "<Figure size 200x200 with 1 Axes>",
      "image/png": "[encoded data removed]"
     },
     "metadata": {},
     "output_type": "display_data"
    },
    {
     "data": {
      "text/plain": "<Figure size 200x200 with 1 Axes>",
      "image/png": "[encoded data removed]"
     },
     "metadata": {},
     "output_type": "display_data"
    }
   ],
   "source": [
    "for i in range(10):\n",
    "    current_image = fashion_mnist_train.data[i].numpy()\n",
    "    label = fashion_mnist_train.targets[i]\n",
    "    plt.figure(figsize=(2, 2))\n",
    "    plt.imshow(current_image, cmap=\"gray\")\n",
    "    plt.title(label_names[label])\n",
    "    plt.axis(\"off\")\n",
    "    plt.show()"
   ],
   "metadata": {
    "collapsed": false,
    "ExecuteTime": {
     "end_time": "2023-10-18T06:57:22.039449200Z",
     "start_time": "2023-10-18T06:57:21.305452300Z"
    }
   }
  },
  {
   "cell_type": "code",
   "execution_count": 15,
   "outputs": [],
   "source": [
    "class Classifier(nn.Module):\n",
    "    network: nn.Sequential\n",
    "\n",
    "    def __init__(self):\n",
    "        super().__init__()\n",
    "        # in_channels are 1 because images are grayscale\n",
    "        # out_channels describe the number of filters / kernels to be applied\n",
    "        # Padding is applied to the input on all sides of the input\n",
    "        self.network = nn.Sequential(\n",
    "            nn.Conv2d(in_channels=1, out_channels=16, kernel_size=5, padding=1, stride=1),\n",
    "            nn.ReLU(),\n",
    "            nn.Conv2d(in_channels=16, out_channels=32, kernel_size=5, padding=1, stride=1),\n",
    "            nn.ReLU(),\n",
    "            nn.MaxPool2d(kernel_size=3, padding=1, stride=1),\n",
    "\n",
    "            nn.Flatten(),\n",
    "            nn.Linear(in_features=36864, out_features=10000),\n",
    "            nn.ReLU(),\n",
    "            nn.Linear(10000, 1000),\n",
    "            nn.ReLU(),\n",
    "            nn.Linear(1000, 10)\n",
    "        )\n",
    "\n",
    "    def forward(self, x: torch.Tensor) -> torch.Tensor:\n",
    "        return self.network(x)\n",
    "\n",
    "    def fit(self, epochs: int, train_data_loader: DataLoader, test_data_loader: DataLoader, learning_rate: float = 0.001):\n",
    "        optimizer = torch.optim.Adam(self.parameters(), lr=learning_rate)\n",
    "        history = []\n",
    "        for epoch in range(epochs):\n",
    "            batch_losses = [self.train_step(batch[0].to(device), batch[1].to(device), optimizer) for batch in train_data_loader]\n",
    "            test_metrics = [self.test_step(batch[0].to(device), batch[1].to(device)) for batch in test_data_loader]\n",
    "            metrics: dict = {\n",
    "                \"epoch\": epoch,\n",
    "                \"train_loss\": sum(batch_losses)/len(batch_losses),\n",
    "                \"test_loss\": sum([metric[0] for metric in test_metrics])/len(test_metrics),\n",
    "                \"test_accuracy\": sum([metric[1] for metric in test_metrics])/len(test_metrics)\n",
    "            }\n",
    "            print(metrics)\n",
    "            history.append(metrics)\n",
    "        print(\"Training finished\")\n",
    "        print(history)\n",
    "\n",
    "    def train_step(self, image: torch.Tensor, label: torch.Tensor, optimizer: Adam) -> torch.Tensor:\n",
    "        predictions: torch.Tensor = self(image)\n",
    "        loss = F.cross_entropy(predictions, label)\n",
    "        loss.backward()\n",
    "        optimizer.step()\n",
    "        optimizer.zero_grad()\n",
    "        print(f\"Loss: {loss.item()}\")\n",
    "        return loss.cpu().detach()\n",
    "\n",
    "    def test_step(self, images: torch.Tensor, labels: torch.Tensor) -> Tuple[torch.Tensor, torch.Tensor]:\n",
    "        predictions = self(images)\n",
    "        loss = self.loss_function(predictions, labels)\n",
    "        accuracy = self.accuracy(predictions, labels)\n",
    "        return loss.cpu().detach(), accuracy.cpu().detach()\n",
    "\n",
    "    def predict(self, images: torch.Tensor) -> torch.Tensor:\n",
    "        predictions = self(images)\n",
    "        return predictions.argmax(dim=1).cpu().detach()\n"
   ],
   "metadata": {
    "collapsed": false,
    "ExecuteTime": {
     "end_time": "2023-10-18T06:57:22.115448400Z",
     "start_time": "2023-10-18T06:57:22.028449Z"
    }
   }
  },
  {
   "cell_type": "code",
   "execution_count": 16,
   "outputs": [
    {
     "ename": "RuntimeError",
     "evalue": "mat1 and mat2 shapes cannot be multiplied (64x18432 and 36864x10000)",
     "output_type": "error",
     "traceback": [
      "\u001B[1;31m---------------------------------------------------------------------------\u001B[0m",
      "\u001B[1;31mRuntimeError\u001B[0m                              Traceback (most recent call last)",
      "Cell \u001B[1;32mIn[16], line 2\u001B[0m\n\u001B[0;32m      1\u001B[0m model \u001B[38;5;241m=\u001B[39m Classifier()\u001B[38;5;241m.\u001B[39mcuda()\n\u001B[1;32m----> 2\u001B[0m \u001B[43mmodel\u001B[49m\u001B[38;5;241;43m.\u001B[39;49m\u001B[43mfit\u001B[49m\u001B[43m(\u001B[49m\u001B[43mepochs\u001B[49m\u001B[38;5;241;43m=\u001B[39;49m\u001B[38;5;241;43m1\u001B[39;49m\u001B[43m,\u001B[49m\u001B[43m \u001B[49m\u001B[43mtrain_data_loader\u001B[49m\u001B[38;5;241;43m=\u001B[39;49m\u001B[43mtrain_data_loader\u001B[49m\u001B[43m,\u001B[49m\u001B[43m \u001B[49m\u001B[43mtest_data_loader\u001B[49m\u001B[38;5;241;43m=\u001B[39;49m\u001B[43mtest_data_loader\u001B[49m\u001B[43m)\u001B[49m\n",
      "Cell \u001B[1;32mIn[15], line 31\u001B[0m, in \u001B[0;36mClassifier.fit\u001B[1;34m(self, epochs, train_data_loader, test_data_loader, learning_rate)\u001B[0m\n\u001B[0;32m     29\u001B[0m history \u001B[38;5;241m=\u001B[39m []\n\u001B[0;32m     30\u001B[0m \u001B[38;5;28;01mfor\u001B[39;00m epoch \u001B[38;5;129;01min\u001B[39;00m \u001B[38;5;28mrange\u001B[39m(epochs):\n\u001B[1;32m---> 31\u001B[0m     batch_losses \u001B[38;5;241m=\u001B[39m [\u001B[38;5;28mself\u001B[39m\u001B[38;5;241m.\u001B[39mtrain_step(batch[\u001B[38;5;241m0\u001B[39m]\u001B[38;5;241m.\u001B[39mto(device), batch[\u001B[38;5;241m1\u001B[39m]\u001B[38;5;241m.\u001B[39mto(device), optimizer) \u001B[38;5;28;01mfor\u001B[39;00m batch \u001B[38;5;129;01min\u001B[39;00m train_data_loader]\n\u001B[0;32m     32\u001B[0m     test_metrics \u001B[38;5;241m=\u001B[39m [\u001B[38;5;28mself\u001B[39m\u001B[38;5;241m.\u001B[39mtest_step(batch[\u001B[38;5;241m0\u001B[39m]\u001B[38;5;241m.\u001B[39mto(device), batch[\u001B[38;5;241m1\u001B[39m]\u001B[38;5;241m.\u001B[39mto(device)) \u001B[38;5;28;01mfor\u001B[39;00m batch \u001B[38;5;129;01min\u001B[39;00m test_data_loader]\n\u001B[0;32m     33\u001B[0m     metrics: \u001B[38;5;28mdict\u001B[39m \u001B[38;5;241m=\u001B[39m {\n\u001B[0;32m     34\u001B[0m         \u001B[38;5;124m\"\u001B[39m\u001B[38;5;124mepoch\u001B[39m\u001B[38;5;124m\"\u001B[39m: epoch,\n\u001B[0;32m     35\u001B[0m         \u001B[38;5;124m\"\u001B[39m\u001B[38;5;124mtrain_loss\u001B[39m\u001B[38;5;124m\"\u001B[39m: \u001B[38;5;28msum\u001B[39m(batch_losses)\u001B[38;5;241m/\u001B[39m\u001B[38;5;28mlen\u001B[39m(batch_losses),\n\u001B[0;32m     36\u001B[0m         \u001B[38;5;124m\"\u001B[39m\u001B[38;5;124mtest_loss\u001B[39m\u001B[38;5;124m\"\u001B[39m: \u001B[38;5;28msum\u001B[39m([metric[\u001B[38;5;241m0\u001B[39m] \u001B[38;5;28;01mfor\u001B[39;00m metric \u001B[38;5;129;01min\u001B[39;00m test_metrics])\u001B[38;5;241m/\u001B[39m\u001B[38;5;28mlen\u001B[39m(test_metrics),\n\u001B[0;32m     37\u001B[0m         \u001B[38;5;124m\"\u001B[39m\u001B[38;5;124mtest_accuracy\u001B[39m\u001B[38;5;124m\"\u001B[39m: \u001B[38;5;28msum\u001B[39m([metric[\u001B[38;5;241m1\u001B[39m] \u001B[38;5;28;01mfor\u001B[39;00m metric \u001B[38;5;129;01min\u001B[39;00m test_metrics])\u001B[38;5;241m/\u001B[39m\u001B[38;5;28mlen\u001B[39m(test_metrics)\n\u001B[0;32m     38\u001B[0m     }\n",
      "Cell \u001B[1;32mIn[15], line 31\u001B[0m, in \u001B[0;36m<listcomp>\u001B[1;34m(.0)\u001B[0m\n\u001B[0;32m     29\u001B[0m history \u001B[38;5;241m=\u001B[39m []\n\u001B[0;32m     30\u001B[0m \u001B[38;5;28;01mfor\u001B[39;00m epoch \u001B[38;5;129;01min\u001B[39;00m \u001B[38;5;28mrange\u001B[39m(epochs):\n\u001B[1;32m---> 31\u001B[0m     batch_losses \u001B[38;5;241m=\u001B[39m [\u001B[38;5;28;43mself\u001B[39;49m\u001B[38;5;241;43m.\u001B[39;49m\u001B[43mtrain_step\u001B[49m\u001B[43m(\u001B[49m\u001B[43mbatch\u001B[49m\u001B[43m[\u001B[49m\u001B[38;5;241;43m0\u001B[39;49m\u001B[43m]\u001B[49m\u001B[38;5;241;43m.\u001B[39;49m\u001B[43mto\u001B[49m\u001B[43m(\u001B[49m\u001B[43mdevice\u001B[49m\u001B[43m)\u001B[49m\u001B[43m,\u001B[49m\u001B[43m \u001B[49m\u001B[43mbatch\u001B[49m\u001B[43m[\u001B[49m\u001B[38;5;241;43m1\u001B[39;49m\u001B[43m]\u001B[49m\u001B[38;5;241;43m.\u001B[39;49m\u001B[43mto\u001B[49m\u001B[43m(\u001B[49m\u001B[43mdevice\u001B[49m\u001B[43m)\u001B[49m\u001B[43m,\u001B[49m\u001B[43m \u001B[49m\u001B[43moptimizer\u001B[49m\u001B[43m)\u001B[49m \u001B[38;5;28;01mfor\u001B[39;00m batch \u001B[38;5;129;01min\u001B[39;00m train_data_loader]\n\u001B[0;32m     32\u001B[0m     test_metrics \u001B[38;5;241m=\u001B[39m [\u001B[38;5;28mself\u001B[39m\u001B[38;5;241m.\u001B[39mtest_step(batch[\u001B[38;5;241m0\u001B[39m]\u001B[38;5;241m.\u001B[39mto(device), batch[\u001B[38;5;241m1\u001B[39m]\u001B[38;5;241m.\u001B[39mto(device)) \u001B[38;5;28;01mfor\u001B[39;00m batch \u001B[38;5;129;01min\u001B[39;00m test_data_loader]\n\u001B[0;32m     33\u001B[0m     metrics: \u001B[38;5;28mdict\u001B[39m \u001B[38;5;241m=\u001B[39m {\n\u001B[0;32m     34\u001B[0m         \u001B[38;5;124m\"\u001B[39m\u001B[38;5;124mepoch\u001B[39m\u001B[38;5;124m\"\u001B[39m: epoch,\n\u001B[0;32m     35\u001B[0m         \u001B[38;5;124m\"\u001B[39m\u001B[38;5;124mtrain_loss\u001B[39m\u001B[38;5;124m\"\u001B[39m: \u001B[38;5;28msum\u001B[39m(batch_losses)\u001B[38;5;241m/\u001B[39m\u001B[38;5;28mlen\u001B[39m(batch_losses),\n\u001B[0;32m     36\u001B[0m         \u001B[38;5;124m\"\u001B[39m\u001B[38;5;124mtest_loss\u001B[39m\u001B[38;5;124m\"\u001B[39m: \u001B[38;5;28msum\u001B[39m([metric[\u001B[38;5;241m0\u001B[39m] \u001B[38;5;28;01mfor\u001B[39;00m metric \u001B[38;5;129;01min\u001B[39;00m test_metrics])\u001B[38;5;241m/\u001B[39m\u001B[38;5;28mlen\u001B[39m(test_metrics),\n\u001B[0;32m     37\u001B[0m         \u001B[38;5;124m\"\u001B[39m\u001B[38;5;124mtest_accuracy\u001B[39m\u001B[38;5;124m\"\u001B[39m: \u001B[38;5;28msum\u001B[39m([metric[\u001B[38;5;241m1\u001B[39m] \u001B[38;5;28;01mfor\u001B[39;00m metric \u001B[38;5;129;01min\u001B[39;00m test_metrics])\u001B[38;5;241m/\u001B[39m\u001B[38;5;28mlen\u001B[39m(test_metrics)\n\u001B[0;32m     38\u001B[0m     }\n",
      "Cell \u001B[1;32mIn[15], line 45\u001B[0m, in \u001B[0;36mClassifier.train_step\u001B[1;34m(self, image, label, optimizer)\u001B[0m\n\u001B[0;32m     44\u001B[0m \u001B[38;5;28;01mdef\u001B[39;00m \u001B[38;5;21mtrain_step\u001B[39m(\u001B[38;5;28mself\u001B[39m, image: torch\u001B[38;5;241m.\u001B[39mTensor, label: torch\u001B[38;5;241m.\u001B[39mTensor, optimizer: Adam) \u001B[38;5;241m-\u001B[39m\u001B[38;5;241m>\u001B[39m torch\u001B[38;5;241m.\u001B[39mTensor:\n\u001B[1;32m---> 45\u001B[0m     predictions: torch\u001B[38;5;241m.\u001B[39mTensor \u001B[38;5;241m=\u001B[39m \u001B[38;5;28;43mself\u001B[39;49m\u001B[43m(\u001B[49m\u001B[43mimage\u001B[49m\u001B[43m)\u001B[49m\n\u001B[0;32m     46\u001B[0m     loss \u001B[38;5;241m=\u001B[39m F\u001B[38;5;241m.\u001B[39mcross_entropy(predictions, label)\n\u001B[0;32m     47\u001B[0m     loss\u001B[38;5;241m.\u001B[39mbackward()\n",
      "File \u001B[1;32mE:\\THU\\thu-epm-project\\venv\\lib\\site-packages\\torch\\nn\\modules\\module.py:1194\u001B[0m, in \u001B[0;36mModule._call_impl\u001B[1;34m(self, *input, **kwargs)\u001B[0m\n\u001B[0;32m   1190\u001B[0m \u001B[38;5;66;03m# If we don't have any hooks, we want to skip the rest of the logic in\u001B[39;00m\n\u001B[0;32m   1191\u001B[0m \u001B[38;5;66;03m# this function, and just call forward.\u001B[39;00m\n\u001B[0;32m   1192\u001B[0m \u001B[38;5;28;01mif\u001B[39;00m \u001B[38;5;129;01mnot\u001B[39;00m (\u001B[38;5;28mself\u001B[39m\u001B[38;5;241m.\u001B[39m_backward_hooks \u001B[38;5;129;01mor\u001B[39;00m \u001B[38;5;28mself\u001B[39m\u001B[38;5;241m.\u001B[39m_forward_hooks \u001B[38;5;129;01mor\u001B[39;00m \u001B[38;5;28mself\u001B[39m\u001B[38;5;241m.\u001B[39m_forward_pre_hooks \u001B[38;5;129;01mor\u001B[39;00m _global_backward_hooks\n\u001B[0;32m   1193\u001B[0m         \u001B[38;5;129;01mor\u001B[39;00m _global_forward_hooks \u001B[38;5;129;01mor\u001B[39;00m _global_forward_pre_hooks):\n\u001B[1;32m-> 1194\u001B[0m     \u001B[38;5;28;01mreturn\u001B[39;00m forward_call(\u001B[38;5;241m*\u001B[39m\u001B[38;5;28minput\u001B[39m, \u001B[38;5;241m*\u001B[39m\u001B[38;5;241m*\u001B[39mkwargs)\n\u001B[0;32m   1195\u001B[0m \u001B[38;5;66;03m# Do not call functions when jit is used\u001B[39;00m\n\u001B[0;32m   1196\u001B[0m full_backward_hooks, non_full_backward_hooks \u001B[38;5;241m=\u001B[39m [], []\n",
      "Cell \u001B[1;32mIn[15], line 25\u001B[0m, in \u001B[0;36mClassifier.forward\u001B[1;34m(self, x)\u001B[0m\n\u001B[0;32m     24\u001B[0m \u001B[38;5;28;01mdef\u001B[39;00m \u001B[38;5;21mforward\u001B[39m(\u001B[38;5;28mself\u001B[39m, x: torch\u001B[38;5;241m.\u001B[39mTensor) \u001B[38;5;241m-\u001B[39m\u001B[38;5;241m>\u001B[39m torch\u001B[38;5;241m.\u001B[39mTensor:\n\u001B[1;32m---> 25\u001B[0m     \u001B[38;5;28;01mreturn\u001B[39;00m \u001B[38;5;28;43mself\u001B[39;49m\u001B[38;5;241;43m.\u001B[39;49m\u001B[43mnetwork\u001B[49m\u001B[43m(\u001B[49m\u001B[43mx\u001B[49m\u001B[43m)\u001B[49m\n",
      "File \u001B[1;32mE:\\THU\\thu-epm-project\\venv\\lib\\site-packages\\torch\\nn\\modules\\module.py:1194\u001B[0m, in \u001B[0;36mModule._call_impl\u001B[1;34m(self, *input, **kwargs)\u001B[0m\n\u001B[0;32m   1190\u001B[0m \u001B[38;5;66;03m# If we don't have any hooks, we want to skip the rest of the logic in\u001B[39;00m\n\u001B[0;32m   1191\u001B[0m \u001B[38;5;66;03m# this function, and just call forward.\u001B[39;00m\n\u001B[0;32m   1192\u001B[0m \u001B[38;5;28;01mif\u001B[39;00m \u001B[38;5;129;01mnot\u001B[39;00m (\u001B[38;5;28mself\u001B[39m\u001B[38;5;241m.\u001B[39m_backward_hooks \u001B[38;5;129;01mor\u001B[39;00m \u001B[38;5;28mself\u001B[39m\u001B[38;5;241m.\u001B[39m_forward_hooks \u001B[38;5;129;01mor\u001B[39;00m \u001B[38;5;28mself\u001B[39m\u001B[38;5;241m.\u001B[39m_forward_pre_hooks \u001B[38;5;129;01mor\u001B[39;00m _global_backward_hooks\n\u001B[0;32m   1193\u001B[0m         \u001B[38;5;129;01mor\u001B[39;00m _global_forward_hooks \u001B[38;5;129;01mor\u001B[39;00m _global_forward_pre_hooks):\n\u001B[1;32m-> 1194\u001B[0m     \u001B[38;5;28;01mreturn\u001B[39;00m forward_call(\u001B[38;5;241m*\u001B[39m\u001B[38;5;28minput\u001B[39m, \u001B[38;5;241m*\u001B[39m\u001B[38;5;241m*\u001B[39mkwargs)\n\u001B[0;32m   1195\u001B[0m \u001B[38;5;66;03m# Do not call functions when jit is used\u001B[39;00m\n\u001B[0;32m   1196\u001B[0m full_backward_hooks, non_full_backward_hooks \u001B[38;5;241m=\u001B[39m [], []\n",
      "File \u001B[1;32mE:\\THU\\thu-epm-project\\venv\\lib\\site-packages\\torch\\nn\\modules\\container.py:204\u001B[0m, in \u001B[0;36mSequential.forward\u001B[1;34m(self, input)\u001B[0m\n\u001B[0;32m    202\u001B[0m \u001B[38;5;28;01mdef\u001B[39;00m \u001B[38;5;21mforward\u001B[39m(\u001B[38;5;28mself\u001B[39m, \u001B[38;5;28minput\u001B[39m):\n\u001B[0;32m    203\u001B[0m     \u001B[38;5;28;01mfor\u001B[39;00m module \u001B[38;5;129;01min\u001B[39;00m \u001B[38;5;28mself\u001B[39m:\n\u001B[1;32m--> 204\u001B[0m         \u001B[38;5;28minput\u001B[39m \u001B[38;5;241m=\u001B[39m \u001B[43mmodule\u001B[49m\u001B[43m(\u001B[49m\u001B[38;5;28;43minput\u001B[39;49m\u001B[43m)\u001B[49m\n\u001B[0;32m    205\u001B[0m     \u001B[38;5;28;01mreturn\u001B[39;00m \u001B[38;5;28minput\u001B[39m\n",
      "File \u001B[1;32mE:\\THU\\thu-epm-project\\venv\\lib\\site-packages\\torch\\nn\\modules\\module.py:1194\u001B[0m, in \u001B[0;36mModule._call_impl\u001B[1;34m(self, *input, **kwargs)\u001B[0m\n\u001B[0;32m   1190\u001B[0m \u001B[38;5;66;03m# If we don't have any hooks, we want to skip the rest of the logic in\u001B[39;00m\n\u001B[0;32m   1191\u001B[0m \u001B[38;5;66;03m# this function, and just call forward.\u001B[39;00m\n\u001B[0;32m   1192\u001B[0m \u001B[38;5;28;01mif\u001B[39;00m \u001B[38;5;129;01mnot\u001B[39;00m (\u001B[38;5;28mself\u001B[39m\u001B[38;5;241m.\u001B[39m_backward_hooks \u001B[38;5;129;01mor\u001B[39;00m \u001B[38;5;28mself\u001B[39m\u001B[38;5;241m.\u001B[39m_forward_hooks \u001B[38;5;129;01mor\u001B[39;00m \u001B[38;5;28mself\u001B[39m\u001B[38;5;241m.\u001B[39m_forward_pre_hooks \u001B[38;5;129;01mor\u001B[39;00m _global_backward_hooks\n\u001B[0;32m   1193\u001B[0m         \u001B[38;5;129;01mor\u001B[39;00m _global_forward_hooks \u001B[38;5;129;01mor\u001B[39;00m _global_forward_pre_hooks):\n\u001B[1;32m-> 1194\u001B[0m     \u001B[38;5;28;01mreturn\u001B[39;00m forward_call(\u001B[38;5;241m*\u001B[39m\u001B[38;5;28minput\u001B[39m, \u001B[38;5;241m*\u001B[39m\u001B[38;5;241m*\u001B[39mkwargs)\n\u001B[0;32m   1195\u001B[0m \u001B[38;5;66;03m# Do not call functions when jit is used\u001B[39;00m\n\u001B[0;32m   1196\u001B[0m full_backward_hooks, non_full_backward_hooks \u001B[38;5;241m=\u001B[39m [], []\n",
      "File \u001B[1;32mE:\\THU\\thu-epm-project\\venv\\lib\\site-packages\\torch\\nn\\modules\\linear.py:114\u001B[0m, in \u001B[0;36mLinear.forward\u001B[1;34m(self, input)\u001B[0m\n\u001B[0;32m    113\u001B[0m \u001B[38;5;28;01mdef\u001B[39;00m \u001B[38;5;21mforward\u001B[39m(\u001B[38;5;28mself\u001B[39m, \u001B[38;5;28minput\u001B[39m: Tensor) \u001B[38;5;241m-\u001B[39m\u001B[38;5;241m>\u001B[39m Tensor:\n\u001B[1;32m--> 114\u001B[0m     \u001B[38;5;28;01mreturn\u001B[39;00m \u001B[43mF\u001B[49m\u001B[38;5;241;43m.\u001B[39;49m\u001B[43mlinear\u001B[49m\u001B[43m(\u001B[49m\u001B[38;5;28;43minput\u001B[39;49m\u001B[43m,\u001B[49m\u001B[43m \u001B[49m\u001B[38;5;28;43mself\u001B[39;49m\u001B[38;5;241;43m.\u001B[39;49m\u001B[43mweight\u001B[49m\u001B[43m,\u001B[49m\u001B[43m \u001B[49m\u001B[38;5;28;43mself\u001B[39;49m\u001B[38;5;241;43m.\u001B[39;49m\u001B[43mbias\u001B[49m\u001B[43m)\u001B[49m\n",
      "\u001B[1;31mRuntimeError\u001B[0m: mat1 and mat2 shapes cannot be multiplied (64x18432 and 36864x10000)"
     ]
    }
   ],
   "source": [
    "model = Classifier().cuda()\n",
    "model.fit(epochs=1, train_data_loader=train_data_loader, test_data_loader=test_data_loader)"
   ],
   "metadata": {
    "collapsed": false,
    "ExecuteTime": {
     "end_time": "2023-10-18T06:57:51.899199800Z",
     "start_time": "2023-10-18T06:57:22.116450300Z"
    }
   }
  },
  {
   "cell_type": "code",
   "execution_count": null,
   "outputs": [],
   "source": [
    "y_true = []\n",
    "y_pred = []\n",
    "for batch in test_data_loader:\n",
    "    y_true.extend(batch[1].numpy())\n",
    "    y_pred.extend(model.predict(batch[0]).numpy())"
   ],
   "metadata": {
    "collapsed": false,
    "ExecuteTime": {
     "start_time": "2023-10-18T06:57:51.898200300Z"
    }
   }
  },
  {
   "cell_type": "code",
   "execution_count": null,
   "outputs": [],
   "source": [
    "from sklearn.metrics import classification_report, confusion_matrix\n",
    "from sklearn.metrics import ConfusionMatrixDisplay\n",
    "\n",
    "cm = confusion_matrix(y_true, y_pred)\n",
    "disp = ConfusionMatrixDisplay(confusion_matrix=cm, display_labels=label_names)\n",
    "disp.plot()\n",
    "plt.show()\n",
    "\n",
    "print(classification_report(y_true, y_pred, target_names=label_names))"
   ],
   "metadata": {
    "collapsed": false
   }
  },
  {
   "cell_type": "code",
   "execution_count": null,
   "outputs": [],
   "source": [],
   "metadata": {
    "collapsed": false
   }
  }
 ],
 "metadata": {
  "kernelspec": {
   "display_name": "Python 3",
   "language": "python",
   "name": "python3"
  },
  "language_info": {
   "codemirror_mode": {
    "name": "ipython",
    "version": 2
   },
   "file_extension": ".py",
   "mimetype": "text/x-python",
   "name": "python",
   "nbconvert_exporter": "python",
   "pygments_lexer": "ipython2",
   "version": "2.7.6"
  }
 },
 "nbformat": 4,
 "nbformat_minor": 0
}
